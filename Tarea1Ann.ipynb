{
  "nbformat": 4,
  "nbformat_minor": 0,
  "metadata": {
    "colab": {
      "name": "Tarea1Ann.ipynb",
      "provenance": [],
      "collapsed_sections": [
        "Ujss7je_RXyi",
        "VyP4QLzW42TY",
        "hRQS4XX-FOyS",
        "hcg2vYwTFSmM",
        "RRjDcKkjEQdh",
        "7dkQwSzRxsyU",
        "PeuRa9JPdNS3",
        "t0Bf-zVIRTQZ",
        "-YZPFa4QxJdK",
        "ZnSK_hUgsfGl",
        "c0XTUwzKrZdN",
        "P9PwIz10fDHq",
        "zkaBudzLEc0S"
      ],
      "include_colab_link": true
    },
    "kernelspec": {
      "name": "python3",
      "display_name": "Python 3"
    },
    "accelerator": "GPU"
  },
  "cells": [
    {
      "cell_type": "markdown",
      "metadata": {
        "id": "view-in-github",
        "colab_type": "text"
      },
      "source": [
        "<a href=\"https://colab.research.google.com/github/vmanriq/ann-t1/blob/master/Tarea1Ann.ipynb\" target=\"_parent\"><img src=\"https://colab.research.google.com/assets/colab-badge.svg\" alt=\"Open In Colab\"/></a>"
      ]
    },
    {
      "cell_type": "code",
      "metadata": {
        "id": "0VgLSI6Q0m0b",
        "colab_type": "code",
        "outputId": "0a4707f8-eef9-4502-e24d-489cb7ba27c0",
        "colab": {
          "base_uri": "https://localhost:8080/",
          "height": 34
        }
      },
      "source": [
        "from google.colab import drive\n",
        "drive.mount('/content/gdrive')"
      ],
      "execution_count": 0,
      "outputs": [
        {
          "output_type": "stream",
          "text": [
            "Drive already mounted at /content/gdrive; to attempt to forcibly remount, call drive.mount(\"/content/gdrive\", force_remount=True).\n"
          ],
          "name": "stdout"
        }
      ]
    },
    {
      "cell_type": "code",
      "metadata": {
        "id": "psasQx5TEgo5",
        "colab_type": "code",
        "colab": {}
      },
      "source": [
        "import tensorflow as tf\n",
        "import tensorflow_datasets as tfds\n",
        "\n",
        "from tensorflow import keras\n",
        "from keras.datasets import mnist\n",
        "from sklearn.model_selection import train_test_split\n",
        "from sklearn.datasets import make_moons\n",
        "\n",
        "import numpy as np\n",
        "import pandas as pd\n",
        "import seaborn as sn\n",
        "from matplotlib import pyplot as plt\n",
        "\n",
        "import cv2\n",
        "import os\n",
        "import pickle\n",
        "import random\n",
        "import collections\n",
        "\n",
        "from sklearn.metrics import confusion_matrix, classification_report, accuracy_score, f1_score, multilabel_confusion_matrix"
      ],
      "execution_count": 0,
      "outputs": []
    },
    {
      "cell_type": "code",
      "metadata": {
        "id": "nR1dR1Lim-9I",
        "colab_type": "code",
        "outputId": "ff64e8ad-6af7-4c01-c835-826bdb793277",
        "colab": {
          "base_uri": "https://localhost:8080/",
          "height": 34
        }
      },
      "source": [
        "PATH = \"/content/gdrive/My Drive/ANN1\"\n",
        "np.random.seed(48)\n",
        "tf.random.set_seed(48)\n",
        "plt.style.use(\"fivethirtyeight\")\n",
        "%cd /content/gdrive/My Drive/ANN1"
      ],
      "execution_count": 0,
      "outputs": [
        {
          "output_type": "stream",
          "text": [
            "/content/gdrive/My Drive/ANN1\n"
          ],
          "name": "stdout"
        }
      ]
    },
    {
      "cell_type": "markdown",
      "metadata": {
        "id": "JtNUNVv2EV90",
        "colab_type": "text"
      },
      "source": [
        "## Ejercicio 1: Refute o Afirme (El desbalanceo de las clases no tiene ningun efecto en el entrenamiento de la red)\n",
        "\n"
      ]
    },
    {
      "cell_type": "markdown",
      "metadata": {
        "id": "Ujss7je_RXyi",
        "colab_type": "text"
      },
      "source": [
        "## PERROS&GATOS DATASET"
      ]
    },
    {
      "cell_type": "markdown",
      "metadata": {
        "id": "VyP4QLzW42TY",
        "colab_type": "text"
      },
      "source": [
        "### Cargado del dataset"
      ]
    },
    {
      "cell_type": "code",
      "metadata": {
        "id": "sTL3OJYVo0UY",
        "colab_type": "code",
        "colab": {}
      },
      "source": [
        "##shuffle dataset\n",
        "def shuffleImages(img_array, labels):\n",
        "  aux_arr = []\n",
        "  X = []\n",
        "  y = []\n",
        "  for i in range(len(labels)):\n",
        "    aux_arr.append([img_array[i], labels[i]])\n",
        "  random.shuffle(aux_arr)\n",
        "  for img_arr, lab in aux_arr:\n",
        "    X.append(img_arr)\n",
        "    y.append(lab)\n",
        "  return (np.array(X),np.array(y))\n",
        "\n",
        "def calcCantGatosPerros(X, y, alpha, total):\n",
        "  \n",
        "  cant_perros = int(len(X)/2)*alpha\n",
        "  cant_gatos = total - cant_perros\n",
        "  \n",
        "  return(cant_gatos ,cant_perros )\n",
        "\n",
        "def minData(X, y, ngatos, nperros):\n",
        "  if(nperros+ngatos > len(X)):\n",
        "    return\n",
        "  newX = []\n",
        "  newy = []\n",
        "  cant_perros = ngatos\n",
        "  cant_gatos = nperros\n",
        "  countg = 0\n",
        "  countp = 0\n",
        "  for idx, elem in enumerate(y):\n",
        "    #gato\n",
        "    if( elem == 0 and countg <= cant_gatos):\n",
        "      newX.append(X[idx])\n",
        "      newy.append(y[idx])\n",
        "      countg+=1\n",
        "\n",
        "    if( elem == 1 and countp <= cant_perros):\n",
        "      newX.append(X[idx])\n",
        "      newy.append(y[idx])\n",
        "      countp+=1\n",
        "  print(countp+countg)\n",
        "  return(np.array(newX), np.array(newy))"
      ],
      "execution_count": 0,
      "outputs": []
    },
    {
      "cell_type": "code",
      "metadata": {
        "id": "zxgizduiRccW",
        "colab_type": "code",
        "colab": {}
      },
      "source": [
        "#se realizo pre-procesamiento de las imagenes, dejandolas todas en la misma escala, adicionalmente se dejaron en escala de grises, ya que el color no se presenta como una caracteristica importante en esta clasificacion \n",
        "img_array = pickle.load(open(os.path.join(PATH,\"PetImages\",\"X3.pickle\"),\"rb\"))\n",
        "labels = pickle.load(open(os.path.join(PATH,\"PetImages\",\"y3.pickle\"),\"rb\"))\n",
        "NAMES  = [\"Perro\",\"Gato\"]\n",
        "EPOCHS = 10"
      ],
      "execution_count": 0,
      "outputs": []
    },
    {
      "cell_type": "code",
      "metadata": {
        "id": "81LLLf4ph5MC",
        "colab_type": "code",
        "colab": {}
      },
      "source": [
        "X, y = shuffleImages(img_array, labels)"
      ],
      "execution_count": 0,
      "outputs": []
    },
    {
      "cell_type": "markdown",
      "metadata": {
        "id": "hRQS4XX-FOyS",
        "colab_type": "text"
      },
      "source": [
        "#### Se separa data en training y testing "
      ]
    },
    {
      "cell_type": "code",
      "metadata": {
        "id": "SKmpt7Yz7XlT",
        "colab_type": "code",
        "colab": {}
      },
      "source": [
        "#20% testing 80% training \n",
        "X_train, X_test, y_train, y_test = train_test_split(X, y,stratify=y,test_size=0.20, random_state=42)"
      ],
      "execution_count": 0,
      "outputs": []
    },
    {
      "cell_type": "markdown",
      "metadata": {
        "id": "hcg2vYwTFSmM",
        "colab_type": "text"
      },
      "source": [
        "### Se desbalancea el testing, manteniendo constante 10000 muestras "
      ]
    },
    {
      "cell_type": "code",
      "metadata": {
        "id": "ewhkmXnwBp8R",
        "colab_type": "code",
        "outputId": "dbc73c7f-06d8-4a26-a760-7539092c1cf5",
        "colab": {
          "base_uri": "https://localhost:8080/",
          "height": 320
        }
      },
      "source": [
        "#se eliminan elementos de la clase perro, para desbalancear el testing--- Se mantiene una suma constante de 10000 muestras en el dataset de training \n",
        "ngatos, nperros = calcCantGatosPerros(X_train, y_train, 0.1, 10000)\n",
        "desbX, desby = minData(X_train, y_train, ngatos, nperros)\n",
        "perros,gatos = collections.Counter(desby).items()\n",
        "plt.ylabel(\"Numero de muestras\")\n",
        "plt.title(\"Desbalanceo 1:9\")\n",
        "plt.bar(NAMES,[perros[1],gatos[1]])\n",
        "plt.show()"
      ],
      "execution_count": 0,
      "outputs": [
        {
          "output_type": "stream",
          "text": [
            "10001\n"
          ],
          "name": "stdout"
        },
        {
          "output_type": "display_data",
          "data": {
            "image/png": "[encoded data removed]",
            "text/plain": [
              "<Figure size 432x288 with 1 Axes>"
            ]
          },
          "metadata": {
            "tags": []
          }
        }
      ]
    },
    {
      "cell_type": "code",
      "metadata": {
        "id": "mDTWK87Y3TKt",
        "colab_type": "code",
        "colab": {}
      },
      "source": [
        "##Arquitectura \n",
        "model1 = keras.models.Sequential()\n",
        "\n",
        "model1.add(keras.layers.Conv2D(32, (3,3), input_shape = X.shape[1:], activation=\"relu\",))\n",
        "model1.add(keras.layers.Dropout(0.25))\n",
        "model1.add(keras.layers.MaxPooling2D(pool_size=(2,2)))\n",
        "\n",
        "\n",
        "model1.add( keras.layers.Conv2D(64, (3,3),  activation=\"relu\"))\n",
        "model1.add(keras.layers.Dropout(0.25))\n",
        "model1.add(keras.layers.MaxPooling2D(pool_size=(2,2)))\n",
        "\n",
        "model1.add( keras.layers.Conv2D(128, (3,3),  activation=\"relu\"))\n",
        "model1.add(keras.layers.Dropout(0.25))\n",
        "model1.add(keras.layers.MaxPooling2D(pool_size=(2,2)))\n",
        "\n",
        "\n",
        "model1.add( keras.layers.Flatten())\n",
        "\n",
        "model1.add( keras.layers.Dense(512, activation=\"relu\"))\n",
        "model1.add(keras.layers.Dropout(0.5))\n",
        "\n",
        "model1.add( keras.layers.Dense(1, activation=\"sigmoid\"))\n",
        "\n",
        "\n",
        "model1.compile(optimizer=\"adam\",\n",
        "              loss=\"binary_crossentropy\",\n",
        "              metrics=[\"accuracy\"])"
      ],
      "execution_count": 0,
      "outputs": []
    },
    {
      "cell_type": "code",
      "metadata": {
        "id": "zGF7usTkR2tS",
        "colab_type": "code",
        "outputId": "2646fa95-6945-432e-998c-5f729f08e51f",
        "colab": {
          "base_uri": "https://localhost:8080/",
          "height": 357
        }
      },
      "source": [
        "# se entrena red con dataset desbalanceados 1 \n",
        "history = model1.fit(desbX, desby , batch_size=34, epochs=EPOCHS, validation_split=0.2)"
      ],
      "execution_count": 0,
      "outputs": [
        {
          "output_type": "stream",
          "text": [
            "Epoch 1/10\n",
            "236/236 [==============================] - 3s 13ms/step - loss: 0.2903 - accuracy: 0.8916 - val_loss: 0.1846 - val_accuracy: 0.9925\n",
            "Epoch 2/10\n",
            "236/236 [==============================] - 3s 13ms/step - loss: 0.2820 - accuracy: 0.8974 - val_loss: 0.1909 - val_accuracy: 0.9970\n",
            "Epoch 3/10\n",
            "236/236 [==============================] - 3s 13ms/step - loss: 0.2583 - accuracy: 0.9090 - val_loss: 0.1598 - val_accuracy: 0.9930\n",
            "Epoch 4/10\n",
            "236/236 [==============================] - 3s 13ms/step - loss: 0.2388 - accuracy: 0.9131 - val_loss: 0.1775 - val_accuracy: 0.9845\n",
            "Epoch 5/10\n",
            "236/236 [==============================] - 3s 13ms/step - loss: 0.2147 - accuracy: 0.9209 - val_loss: 0.1815 - val_accuracy: 0.9900\n",
            "Epoch 6/10\n",
            "236/236 [==============================] - 3s 13ms/step - loss: 0.2132 - accuracy: 0.9247 - val_loss: 0.1308 - val_accuracy: 0.9945\n",
            "Epoch 7/10\n",
            "236/236 [==============================] - 3s 13ms/step - loss: 0.1802 - accuracy: 0.9354 - val_loss: 0.1164 - val_accuracy: 0.9905\n",
            "Epoch 8/10\n",
            "236/236 [==============================] - 3s 13ms/step - loss: 0.1639 - accuracy: 0.9430 - val_loss: 0.1427 - val_accuracy: 0.9775\n",
            "Epoch 9/10\n",
            "236/236 [==============================] - 3s 13ms/step - loss: 0.1480 - accuracy: 0.9476 - val_loss: 0.0949 - val_accuracy: 0.9915\n",
            "Epoch 10/10\n",
            "236/236 [==============================] - 3s 13ms/step - loss: 0.1387 - accuracy: 0.9548 - val_loss: 0.1653 - val_accuracy: 0.9730\n"
          ],
          "name": "stdout"
        }
      ]
    },
    {
      "cell_type": "code",
      "metadata": {
        "id": "u5U-tUz0GeH-",
        "colab_type": "code",
        "outputId": "bf74e185-b5cf-4bfc-ad69-83fe5cf2e371",
        "colab": {
          "base_uri": "https://localhost:8080/",
          "height": 627
        }
      },
      "source": [
        "#desbalanceado sobre testing\n",
        "y_predict = (model1.predict(X_test)>0.5).astype(int)\n",
        "print(classification_report(y_predict, y_test, target_names = NAMES))\n",
        "df_cm = pd.DataFrame(confusion_matrix(y_test, y_predict), index = NAMES,\n",
        "                  columns = NAMES)\n",
        "plt.figure(figsize = (10,7))\n",
        "sn.heatmap(df_cm, annot=True, fmt=\"g\")"
      ],
      "execution_count": 0,
      "outputs": [
        {
          "output_type": "stream",
          "text": [
            "              precision    recall  f1-score   support\n",
            "\n",
            "       Perro       0.17      0.87      0.28       475\n",
            "        Gato       0.98      0.54      0.69      4515\n",
            "\n",
            "    accuracy                           0.57      4990\n",
            "   macro avg       0.57      0.71      0.49      4990\n",
            "weighted avg       0.90      0.57      0.66      4990\n",
            "\n"
          ],
          "name": "stdout"
        },
        {
          "output_type": "execute_result",
          "data": {
            "text/plain": [
              "<matplotlib.axes._subplots.AxesSubplot at 0x7f1974645748>"
            ]
          },
          "metadata": {
            "tags": []
          },
          "execution_count": 40
        },
        {
          "output_type": "display_data",
          "data": {
            "image/png": "[encoded data removed]",
            "text/plain": [
              "<Figure size 720x504 with 2 Axes>"
            ]
          },
          "metadata": {
            "tags": []
          }
        }
      ]
    },
    {
      "cell_type": "markdown",
      "metadata": {
        "id": "RRjDcKkjEQdh",
        "colab_type": "text"
      },
      "source": [
        "### Desbalanceo 2"
      ]
    },
    {
      "cell_type": "code",
      "metadata": {
        "id": "WZSHgd_TETiv",
        "colab_type": "code",
        "outputId": "7ceab1a1-99fc-4eeb-cd27-a85464fd50ee",
        "colab": {
          "base_uri": "https://localhost:8080/",
          "height": 320
        }
      },
      "source": [
        "ngatos, nperros = calcCantGatosPerros(X_train, y_train, 0.3, 10000)\n",
        "desbX2, desby2 = minData(X_train, y_train, ngatos, nperros)\n",
        "perros,gatos = collections.Counter(desby2).items()\n",
        "plt.ylabel(\"Numero de muestras\")\n",
        "plt.title(\"Desbalanceo 3:7\")\n",
        "plt.bar(NAMES,[perros[1],gatos[1]])\n",
        "plt.show()"
      ],
      "execution_count": 0,
      "outputs": [
        {
          "output_type": "stream",
          "text": [
            "10001\n"
          ],
          "name": "stdout"
        },
        {
          "output_type": "display_data",
          "data": {
            "image/png": "[encoded data removed]",
            "text/plain": [
              "<Figure size 432x288 with 1 Axes>"
            ]
          },
          "metadata": {
            "tags": []
          }
        }
      ]
    },
    {
      "cell_type": "code",
      "metadata": {
        "id": "pWwjEA4PEga7",
        "colab_type": "code",
        "outputId": "d33004c3-2791-45c3-ea28-f3f219e904f1",
        "colab": {
          "base_uri": "https://localhost:8080/",
          "height": 357
        }
      },
      "source": [
        "model2= keras.models.clone_model(model1)\n",
        "\n",
        "model2.compile(optimizer=\"adam\",\n",
        "              loss=\"binary_crossentropy\",\n",
        "              metrics=[\"accuracy\"])\n",
        "history = model2.fit(desbX2, desby2 , batch_size=34, epochs=EPOCHS, validation_split=0.2)"
      ],
      "execution_count": 0,
      "outputs": [
        {
          "output_type": "stream",
          "text": [
            "Epoch 1/10\n",
            "236/236 [==============================] - 3s 13ms/step - loss: 3.8853 - accuracy: 0.6174 - val_loss: 0.4786 - val_accuracy: 1.0000\n",
            "Epoch 2/10\n",
            "236/236 [==============================] - 3s 13ms/step - loss: 0.6536 - accuracy: 0.6283 - val_loss: 0.4383 - val_accuracy: 0.9965\n",
            "Epoch 3/10\n",
            "236/236 [==============================] - 3s 13ms/step - loss: 0.6492 - accuracy: 0.6311 - val_loss: 0.4758 - val_accuracy: 0.9750\n",
            "Epoch 4/10\n",
            "236/236 [==============================] - 3s 13ms/step - loss: 0.6448 - accuracy: 0.6350 - val_loss: 0.4901 - val_accuracy: 0.9690\n",
            "Epoch 5/10\n",
            "236/236 [==============================] - 3s 13ms/step - loss: 0.6269 - accuracy: 0.6496 - val_loss: 0.4717 - val_accuracy: 0.9575\n",
            "Epoch 6/10\n",
            "236/236 [==============================] - 3s 13ms/step - loss: 0.6263 - accuracy: 0.6472 - val_loss: 0.4386 - val_accuracy: 0.9760\n",
            "Epoch 7/10\n",
            "236/236 [==============================] - 3s 13ms/step - loss: 0.6097 - accuracy: 0.6656 - val_loss: 0.4530 - val_accuracy: 0.9280\n",
            "Epoch 8/10\n",
            "236/236 [==============================] - 3s 13ms/step - loss: 0.5891 - accuracy: 0.6842 - val_loss: 0.4054 - val_accuracy: 0.9570\n",
            "Epoch 9/10\n",
            "236/236 [==============================] - 3s 13ms/step - loss: 0.5764 - accuracy: 0.6902 - val_loss: 0.3967 - val_accuracy: 0.9610\n",
            "Epoch 10/10\n",
            "236/236 [==============================] - 3s 13ms/step - loss: 0.5422 - accuracy: 0.7145 - val_loss: 0.4178 - val_accuracy: 0.9200\n"
          ],
          "name": "stdout"
        }
      ]
    },
    {
      "cell_type": "code",
      "metadata": {
        "id": "Iv__BQ9eE903",
        "colab_type": "code",
        "outputId": "ab4a9bee-96ec-4e7b-a61f-84b2afc5b76c",
        "colab": {
          "base_uri": "https://localhost:8080/",
          "height": 204
        }
      },
      "source": [
        "#desbalanceado sobre testing\n",
        "y_predict = (model2.predict(X_test)>0.5).astype(int)\n",
        "print(confusion_matrix(y_test, y_predict))\n",
        "print(classification_report(y_test, y_predict, target_names = NAMES))"
      ],
      "execution_count": 0,
      "outputs": [
        {
          "output_type": "stream",
          "text": [
            "[[ 480 2014]\n",
            " [ 169 2327]]\n",
            "              precision    recall  f1-score   support\n",
            "\n",
            "       Perro       0.74      0.19      0.31      2494\n",
            "        Gato       0.54      0.93      0.68      2496\n",
            "\n",
            "    accuracy                           0.56      4990\n",
            "   macro avg       0.64      0.56      0.49      4990\n",
            "weighted avg       0.64      0.56      0.49      4990\n",
            "\n"
          ],
          "name": "stdout"
        }
      ]
    },
    {
      "cell_type": "markdown",
      "metadata": {
        "id": "7dkQwSzRxsyU",
        "colab_type": "text"
      },
      "source": [
        "### Full dataset"
      ]
    },
    {
      "cell_type": "code",
      "metadata": {
        "id": "6HsfWbqYdMqb",
        "colab_type": "code",
        "outputId": "1a895601-3ba1-46da-8b04-efa81142c3ad",
        "colab": {
          "base_uri": "https://localhost:8080/",
          "height": 321
        }
      },
      "source": [
        "X_full_train, y_full_train = minData(X_train, y_train, 5000, 5000)\n",
        "perros,gatos = collections.Counter(y_full_train).items()\n",
        "plt.ylabel(\"Numero Muestras\")\n",
        "plt.title(\"Proporción 1:1\")\n",
        "plt.bar(NAMES ,[perros[1],gatos[1]])\n",
        "plt.show()"
      ],
      "execution_count": 0,
      "outputs": [
        {
          "output_type": "stream",
          "text": [
            "10002\n"
          ],
          "name": "stdout"
        },
        {
          "output_type": "display_data",
          "data": {
            "image/png": "[encoded data removed]",
            "text/plain": [
              "<Figure size 432x288 with 1 Axes>"
            ]
          },
          "metadata": {
            "tags": []
          }
        }
      ]
    },
    {
      "cell_type": "code",
      "metadata": {
        "colab_type": "code",
        "outputId": "a5d5b6ce-cd02-4a45-b9c0-1e0157a916ff",
        "id": "0l06whgp--xf",
        "colab": {
          "base_uri": "https://localhost:8080/",
          "height": 357
        }
      },
      "source": [
        "model3= keras.models.clone_model(model1)\n",
        "\n",
        "model3.compile(optimizer=\"adam\",\n",
        "              loss=\"binary_crossentropy\",\n",
        "              metrics=[\"accuracy\"])\n",
        "history = model3.fit(X_full_train/255.0, y_full_train , batch_size=34, epochs=EPOCHS, validation_split=0.2)"
      ],
      "execution_count": 0,
      "outputs": [
        {
          "output_type": "stream",
          "text": [
            "Epoch 1/10\n",
            "236/236 [==============================] - 3s 14ms/step - loss: 0.6844 - accuracy: 0.5524 - val_loss: 0.6550 - val_accuracy: 0.6457\n",
            "Epoch 2/10\n",
            "236/236 [==============================] - 3s 14ms/step - loss: 0.6476 - accuracy: 0.6289 - val_loss: 0.6226 - val_accuracy: 0.6847\n",
            "Epoch 3/10\n",
            "236/236 [==============================] - 3s 14ms/step - loss: 0.5940 - accuracy: 0.6857 - val_loss: 0.5681 - val_accuracy: 0.7176\n",
            "Epoch 4/10\n",
            "236/236 [==============================] - 3s 14ms/step - loss: 0.5321 - accuracy: 0.7384 - val_loss: 0.5337 - val_accuracy: 0.7641\n",
            "Epoch 5/10\n",
            "236/236 [==============================] - 3s 14ms/step - loss: 0.4822 - accuracy: 0.7717 - val_loss: 0.4974 - val_accuracy: 0.7676\n",
            "Epoch 6/10\n",
            "236/236 [==============================] - 3s 14ms/step - loss: 0.4199 - accuracy: 0.8059 - val_loss: 0.4921 - val_accuracy: 0.7716\n",
            "Epoch 7/10\n",
            "236/236 [==============================] - 3s 14ms/step - loss: 0.3501 - accuracy: 0.8443 - val_loss: 0.4485 - val_accuracy: 0.7926\n",
            "Epoch 8/10\n",
            "236/236 [==============================] - 3s 14ms/step - loss: 0.2812 - accuracy: 0.8818 - val_loss: 0.4222 - val_accuracy: 0.8041\n",
            "Epoch 9/10\n",
            "236/236 [==============================] - 3s 14ms/step - loss: 0.2280 - accuracy: 0.9054 - val_loss: 0.4351 - val_accuracy: 0.7986\n",
            "Epoch 10/10\n",
            "236/236 [==============================] - 3s 14ms/step - loss: 0.1739 - accuracy: 0.9284 - val_loss: 0.4480 - val_accuracy: 0.7961\n"
          ],
          "name": "stdout"
        }
      ]
    },
    {
      "cell_type": "code",
      "metadata": {
        "id": "gJF-PME-nmJS",
        "colab_type": "code",
        "outputId": "59f3aa86-0d04-4379-8517-8af14904bf13",
        "colab": {
          "base_uri": "https://localhost:8080/",
          "height": 221
        }
      },
      "source": [
        "y_predict = (model3.predict(X_test/255.0)>0.5).astype(int)\n",
        "print(confusion_matrix(y_test, y_predict))\n",
        "print(accuracy_score(y_test, y_predict))\n",
        "print(classification_report(y_test, y_predict, target_names=[\"perro\",\"gato\"]))\n"
      ],
      "execution_count": 0,
      "outputs": [
        {
          "output_type": "stream",
          "text": [
            "[[2042  452]\n",
            " [ 597 1899]]\n",
            "0.7897795591182365\n",
            "              precision    recall  f1-score   support\n",
            "\n",
            "       perro       0.77      0.82      0.80      2494\n",
            "        gato       0.81      0.76      0.78      2496\n",
            "\n",
            "    accuracy                           0.79      4990\n",
            "   macro avg       0.79      0.79      0.79      4990\n",
            "weighted avg       0.79      0.79      0.79      4990\n",
            "\n"
          ],
          "name": "stdout"
        }
      ]
    },
    {
      "cell_type": "markdown",
      "metadata": {
        "id": "PeuRa9JPdNS3",
        "colab_type": "text"
      },
      "source": [
        "## Resultados"
      ]
    },
    {
      "cell_type": "code",
      "metadata": {
        "id": "x5hOUFdEdPVv",
        "colab_type": "code",
        "outputId": "cd174f50-1313-4f6d-cab6-292144e90a28",
        "colab": {
          "base_uri": "https://localhost:8080/",
          "height": 265
        }
      },
      "source": [
        "# set width of bar\n",
        "barWidth = 0.25\n",
        " \n",
        "# set height of bar\n",
        "##meter los fscore \n",
        "perro = [0.28, 0.31, 0.80]\n",
        "gato = [0.69, 0.68, 0.78]\n",
        " \n",
        "# Set position of bar on X axis\n",
        "r1 = np.arange(len(bars1))\n",
        "r2 = [x + barWidth for x in r1]\n",
        "r3 = [x + barWidth for x in r2]\n",
        " \n",
        "# Make the plot\n",
        "plt.bar(r1, perro, width=barWidth, edgecolor='white', label='Perro')\n",
        "plt.bar(r2, gato, width=barWidth, edgecolor='white', label='Gato')\n",
        " \n",
        "# Add xticks on the middle of the group bars\n",
        "plt.xticks([r + barWidth for r in range(len(perro))], [\"Desbalanceo1\",\"Desbalanceo2\", \"Full\"])\n",
        " \n",
        "# Create legend & Show graphic\n",
        "plt.ylabel(\"F1-score\")\n",
        "plt.legend()\n",
        "plt.show()\n"
      ],
      "execution_count": 0,
      "outputs": [
        {
          "output_type": "display_data",
          "data": {
            "image/png": "[encoded data removed]",
            "text/plain": [
              "<Figure size 432x288 with 1 Axes>"
            ]
          },
          "metadata": {
            "tags": [],
            "needs_background": "light"
          }
        }
      ]
    },
    {
      "cell_type": "markdown",
      "metadata": {
        "id": "t0Bf-zVIRTQZ",
        "colab_type": "text"
      },
      "source": [
        "## CIFAR10 DATASET"
      ]
    },
    {
      "cell_type": "markdown",
      "metadata": {
        "id": "-YZPFa4QxJdK",
        "colab_type": "text"
      },
      "source": [
        "#### Convolutional Model CIFAR10\n",
        "\n"
      ]
    },
    {
      "cell_type": "code",
      "metadata": {
        "id": "_6PdczMkd4Eg",
        "colab_type": "code",
        "colab": {}
      },
      "source": [
        "from keras.datasets import cifar10"
      ],
      "execution_count": 0,
      "outputs": []
    },
    {
      "cell_type": "code",
      "metadata": {
        "id": "PL3nfUY6NEMr",
        "colab_type": "code",
        "colab": {}
      },
      "source": [
        "#FUNCION PARA DESBALANCEAR CLASES \n",
        "#DESBALANCEA LA CALSE {6,5,4,3}\n",
        "def minDataCifar10(X, y, nGrandes, nChicos):\n",
        "  newX = []\n",
        "  newy = []\n",
        "\n",
        "  contL = [0,0,0,0,0,0,0,0,0,0]\n",
        "\n",
        "  for idx, elem in enumerate(y):\n",
        "    # gato\n",
        "    elem = elem[0]\n",
        "    if( elem == 6 or elem == 4 or elem == 3 or elem == 5):\n",
        "\n",
        "      if( contL[elem] <= nChicos ) and (elem == 5):\n",
        "        newX.append(X[idx])\n",
        "        newy.append(y[idx])\n",
        "        contL[elem] += 1\n",
        "      if( contL[elem] <= nChicos ) and (elem == 4):\n",
        "        newX.append(X[idx])\n",
        "        newy.append(y[idx])\n",
        "        contL[elem] += 1\n",
        "      if( contL[elem] <= nChicos ) and (elem == 3):\n",
        "        newX.append(X[idx])\n",
        "        newy.append(y[idx])\n",
        "        contL[elem] += 1\n",
        "      if( contL[elem] <= nChicos ) and (elem == 6):\n",
        "        newX.append(X[idx])\n",
        "        newy.append(y[idx])\n",
        "        contL[elem] += 1\n",
        "    else:\n",
        "      if( contL[elem] <= nGrandes):\n",
        "        newX.append(X[idx])\n",
        "        newy.append(y[idx])\n",
        "        contL[elem] += 1\n",
        "  print( sum(contL) )\n",
        "  return(np.array(newX), np.array(newy))"
      ],
      "execution_count": 0,
      "outputs": []
    },
    {
      "cell_type": "code",
      "metadata": {
        "id": "-ClBnUEEd5fj",
        "colab_type": "code",
        "outputId": "44dcaa45-130d-4d99-c7d4-a50977527a17",
        "colab": {
          "base_uri": "https://localhost:8080/",
          "height": 51
        }
      },
      "source": [
        "# The data, split between train and test sets:\n",
        "(x_train, y_train), (x_test, y_test) = cifar10.load_data()\n"
      ],
      "execution_count": 0,
      "outputs": [
        {
          "output_type": "stream",
          "text": [
            "Downloading data from https://www.cs.toronto.edu/~kriz/cifar-10-python.tar.gz\n",
            "170500096/170498071 [==============================] - 2s 0us/step\n"
          ],
          "name": "stdout"
        }
      ]
    },
    {
      "cell_type": "code",
      "metadata": {
        "id": "LOiBNUw4IXYn",
        "colab_type": "code",
        "outputId": "c0da9da0-7b14-4001-96e5-e235ba868234",
        "colab": {
          "base_uri": "https://localhost:8080/",
          "height": 282
        }
      },
      "source": [
        "(unique, counts) = np.unique(y_train, return_counts=True)\n",
        "labels = list(map(str,unique.tolist()))\n",
        "freq = list(map(int, counts.tolist()))\n",
        "plt.barh(labels, freq)"
      ],
      "execution_count": 0,
      "outputs": [
        {
          "output_type": "execute_result",
          "data": {
            "text/plain": [
              "<BarContainer object of 10 artists>"
            ]
          },
          "metadata": {
            "tags": []
          },
          "execution_count": 6
        },
        {
          "output_type": "display_data",
          "data": {
            "image/png": "[encoded data removed]",
            "text/plain": [
              "<Figure size 432x288 with 1 Axes>"
            ]
          },
          "metadata": {
            "tags": [],
            "needs_background": "light"
          }
        }
      ]
    },
    {
      "cell_type": "code",
      "metadata": {
        "id": "4V0hsiu2wYxw",
        "colab_type": "code",
        "colab": {}
      },
      "source": [
        "### Se normalizan  los datos\n",
        "\n",
        "x_train = x_train.astype(np.float64)/255.0\n",
        "x_test = x_test.astype(np.float64)/255.0\n"
      ],
      "execution_count": 0,
      "outputs": []
    },
    {
      "cell_type": "code",
      "metadata": {
        "id": "dTWmCBLVDRir",
        "colab_type": "code",
        "colab": {}
      },
      "source": [
        "## arquitectura\n",
        "modelcifar10 = keras.models.Sequential()\n",
        "\n",
        "modelcifar10.add(keras.layers.Conv2D(32, (3,3), input_shape = x_train.shape[1:], activation=\"relu\", padding=\"same\"))\n",
        "modelcifar10.add(keras.layers.Conv2D(32, (3,3), activation=\"relu\", padding=\"same\"))\n",
        "modelcifar10.add(keras.layers.BatchNormalization())\n",
        "modelcifar10.add(keras.layers.MaxPooling2D(pool_size=(2,2)))\n",
        "\n",
        "modelcifar10.add(keras.layers.Conv2D(64, (3,3), activation=\"relu\", padding=\"same\"))\n",
        "modelcifar10.add(keras.layers.Conv2D(64, (3,3), activation=\"relu\", padding=\"same\"))\n",
        "modelcifar10.add(keras.layers.BatchNormalization())\n",
        "modelcifar10.add(keras.layers.MaxPooling2D(pool_size=(2,2)))\n",
        "\n",
        "modelcifar10.add(keras.layers.Conv2D(128, (3,3), activation=\"relu\", padding=\"same\"))\n",
        "modelcifar10.add(keras.layers.Conv2D(128, (3,3), activation=\"relu\", padding=\"same\"))\n",
        "modelcifar10.add(keras.layers.BatchNormalization())\n",
        "modelcifar10.add(keras.layers.MaxPooling2D(pool_size=(2,2)))\n",
        "\n",
        "\n",
        "\n",
        "modelcifar10.add(keras.layers.Flatten())\n",
        "modelcifar10.add(keras.layers.Dense(512, activation=\"relu\"))\n",
        "modelcifar10.add(keras.layers.Dropout(0.5))\n",
        "modelcifar10.add(keras.layers.Dense(10, activation=\"softmax\"))\n",
        "\n",
        "modelcifar10.compile(optimizer=\"adam\", loss=\"categorical_crossentropy\", metrics=[\"accuracy\"])"
      ],
      "execution_count": 0,
      "outputs": []
    },
    {
      "cell_type": "markdown",
      "metadata": {
        "id": "ZnSK_hUgsfGl",
        "colab_type": "text"
      },
      "source": [
        "### Full DataSet"
      ]
    },
    {
      "cell_type": "code",
      "metadata": {
        "id": "EvDFm3PYseaX",
        "colab_type": "code",
        "outputId": "0f633aab-622a-44ce-a036-0583a83ce9ec",
        "colab": {
          "base_uri": "https://localhost:8080/",
          "height": 282
        }
      },
      "source": [
        "cifar10Full= keras.models.clone_model(modelcifar10)\n",
        "\n",
        "cifar10Full.compile(optimizer=\"adam\",\n",
        "              loss=\"categorical_crossentropy\",\n",
        "              metrics=[\"accuracy\"])\n",
        "#se reduce el dataset para dejar la suma constante  \n",
        "x_full, y_full = minDataCifar10(x_train, y_train, 2600, 2600)\n",
        "\n",
        "(unique, counts) = np.unique(y_full, return_counts=True)\n",
        "labels = list(map(str,unique.tolist()))\n",
        "freq = list(map(int, counts.tolist()))\n",
        "plt.barh(labels, freq)\n",
        "\n",
        "\n",
        "#one hot \n",
        "y_full = keras.utils.to_categorical(y_full)\n",
        "y_test = keras.utils.to_categorical(y_test)"
      ],
      "execution_count": 0,
      "outputs": [
        {
          "output_type": "stream",
          "text": [
            "26010\n"
          ],
          "name": "stdout"
        },
        {
          "output_type": "display_data",
          "data": {
            "image/png": "[encoded data removed]",
            "text/plain": [
              "<Figure size 432x288 with 1 Axes>"
            ]
          },
          "metadata": {
            "tags": [],
            "needs_background": "light"
          }
        }
      ]
    },
    {
      "cell_type": "code",
      "metadata": {
        "id": "N7VIdqn-s7TP",
        "colab_type": "code",
        "outputId": "693b5ca6-7fda-4388-a8ae-4e91e9046d35",
        "colab": {
          "base_uri": "https://localhost:8080/",
          "height": 1000
        }
      },
      "source": [
        "#se entrena el modelo\n",
        "cifar10Full.fit(x_full, y_full, batch_size=34, validation_split=0.2, epochs=30)"
      ],
      "execution_count": 0,
      "outputs": [
        {
          "output_type": "stream",
          "text": [
            "Epoch 1/30\n",
            "612/612 [==============================] - 4s 7ms/step - loss: 1.7634 - accuracy: 0.3759 - val_loss: 1.4964 - val_accuracy: 0.4796\n",
            "Epoch 2/30\n",
            "612/612 [==============================] - 4s 7ms/step - loss: 1.3430 - accuracy: 0.5234 - val_loss: 1.1885 - val_accuracy: 0.5761\n",
            "Epoch 3/30\n",
            "612/612 [==============================] - 4s 7ms/step - loss: 1.1220 - accuracy: 0.6081 - val_loss: 1.1585 - val_accuracy: 0.5827\n",
            "Epoch 4/30\n",
            "612/612 [==============================] - 4s 7ms/step - loss: 0.9794 - accuracy: 0.6582 - val_loss: 1.1823 - val_accuracy: 0.5796\n",
            "Epoch 5/30\n",
            "612/612 [==============================] - 4s 7ms/step - loss: 0.8660 - accuracy: 0.6996 - val_loss: 1.0211 - val_accuracy: 0.6547\n",
            "Epoch 6/30\n",
            "612/612 [==============================] - 4s 7ms/step - loss: 0.7677 - accuracy: 0.7348 - val_loss: 0.8777 - val_accuracy: 0.7043\n",
            "Epoch 7/30\n",
            "612/612 [==============================] - 4s 7ms/step - loss: 0.6752 - accuracy: 0.7697 - val_loss: 0.8585 - val_accuracy: 0.7184\n",
            "Epoch 8/30\n",
            "612/612 [==============================] - 4s 7ms/step - loss: 0.5978 - accuracy: 0.7900 - val_loss: 0.9610 - val_accuracy: 0.7126\n",
            "Epoch 9/30\n",
            "612/612 [==============================] - 4s 7ms/step - loss: 0.5316 - accuracy: 0.8157 - val_loss: 0.9018 - val_accuracy: 0.7220\n",
            "Epoch 10/30\n",
            "612/612 [==============================] - 4s 7ms/step - loss: 0.4636 - accuracy: 0.8386 - val_loss: 1.0666 - val_accuracy: 0.6990\n",
            "Epoch 11/30\n",
            "612/612 [==============================] - 4s 7ms/step - loss: 0.4094 - accuracy: 0.8559 - val_loss: 0.9263 - val_accuracy: 0.7247\n",
            "Epoch 12/30\n",
            "612/612 [==============================] - 4s 7ms/step - loss: 0.3610 - accuracy: 0.8782 - val_loss: 0.9242 - val_accuracy: 0.7278\n",
            "Epoch 13/30\n",
            "612/612 [==============================] - 4s 7ms/step - loss: 0.3061 - accuracy: 0.8949 - val_loss: 0.9170 - val_accuracy: 0.7520\n",
            "Epoch 14/30\n",
            "612/612 [==============================] - 4s 7ms/step - loss: 0.2850 - accuracy: 0.9026 - val_loss: 1.2707 - val_accuracy: 0.6963\n",
            "Epoch 15/30\n",
            "612/612 [==============================] - 4s 7ms/step - loss: 0.2449 - accuracy: 0.9165 - val_loss: 1.1108 - val_accuracy: 0.7243\n",
            "Epoch 16/30\n",
            "612/612 [==============================] - 4s 6ms/step - loss: 0.2099 - accuracy: 0.9287 - val_loss: 1.0225 - val_accuracy: 0.7539\n",
            "Epoch 17/30\n",
            "612/612 [==============================] - 4s 7ms/step - loss: 0.2024 - accuracy: 0.9302 - val_loss: 1.1167 - val_accuracy: 0.7393\n",
            "Epoch 18/30\n",
            "612/612 [==============================] - 4s 7ms/step - loss: 0.1956 - accuracy: 0.9340 - val_loss: 1.1279 - val_accuracy: 0.7436\n",
            "Epoch 19/30\n",
            "612/612 [==============================] - 4s 7ms/step - loss: 0.1852 - accuracy: 0.9371 - val_loss: 1.1669 - val_accuracy: 0.7434\n",
            "Epoch 20/30\n",
            "612/612 [==============================] - 4s 7ms/step - loss: 0.1745 - accuracy: 0.9399 - val_loss: 1.2910 - val_accuracy: 0.7322\n",
            "Epoch 21/30\n",
            "612/612 [==============================] - 4s 7ms/step - loss: 0.1692 - accuracy: 0.9443 - val_loss: 1.1853 - val_accuracy: 0.7466\n",
            "Epoch 22/30\n",
            "612/612 [==============================] - 4s 7ms/step - loss: 0.1494 - accuracy: 0.9496 - val_loss: 1.2622 - val_accuracy: 0.7586\n",
            "Epoch 23/30\n",
            "612/612 [==============================] - 4s 7ms/step - loss: 0.1416 - accuracy: 0.9553 - val_loss: 1.2776 - val_accuracy: 0.7537\n",
            "Epoch 24/30\n",
            "612/612 [==============================] - 4s 6ms/step - loss: 0.1404 - accuracy: 0.9557 - val_loss: 1.2953 - val_accuracy: 0.7382\n",
            "Epoch 25/30\n",
            "612/612 [==============================] - 4s 7ms/step - loss: 0.1508 - accuracy: 0.9504 - val_loss: 1.2863 - val_accuracy: 0.7314\n",
            "Epoch 26/30\n",
            "612/612 [==============================] - 4s 7ms/step - loss: 0.1155 - accuracy: 0.9609 - val_loss: 1.4629 - val_accuracy: 0.7478\n",
            "Epoch 27/30\n",
            "612/612 [==============================] - 4s 7ms/step - loss: 0.1246 - accuracy: 0.9599 - val_loss: 1.3901 - val_accuracy: 0.7541\n",
            "Epoch 28/30\n",
            "612/612 [==============================] - 4s 7ms/step - loss: 0.1164 - accuracy: 0.9612 - val_loss: 1.5576 - val_accuracy: 0.7409\n",
            "Epoch 29/30\n",
            "612/612 [==============================] - 4s 7ms/step - loss: 0.1143 - accuracy: 0.9644 - val_loss: 1.4665 - val_accuracy: 0.7486\n",
            "Epoch 30/30\n",
            "612/612 [==============================] - 4s 6ms/step - loss: 0.1223 - accuracy: 0.9623 - val_loss: 1.3283 - val_accuracy: 0.7426\n"
          ],
          "name": "stdout"
        },
        {
          "output_type": "execute_result",
          "data": {
            "text/plain": [
              "<tensorflow.python.keras.callbacks.History at 0x7f4cb8e9a828>"
            ]
          },
          "metadata": {
            "tags": []
          },
          "execution_count": 10
        }
      ]
    },
    {
      "cell_type": "code",
      "metadata": {
        "id": "m2gqWnC0yJzZ",
        "colab_type": "code",
        "outputId": "5d630831-f834-4ed4-8993-f3db00f3e8e1",
        "colab": {
          "base_uri": "https://localhost:8080/",
          "height": 306
        }
      },
      "source": [
        "# sobre testing\n",
        "y_predict = cifar10Full.predict(x_test)\n",
        "print(classification_report(np.argmax(y_test,axis=1), np.argmax(y_predict,axis=1)))"
      ],
      "execution_count": 0,
      "outputs": [
        {
          "output_type": "stream",
          "text": [
            "              precision    recall  f1-score   support\n",
            "\n",
            "           0       0.80      0.76      0.78      1000\n",
            "           1       0.90      0.84      0.87      1000\n",
            "           2       0.75      0.54      0.62      1000\n",
            "           3       0.50      0.59      0.54      1000\n",
            "           4       0.72      0.65      0.68      1000\n",
            "           5       0.58      0.69      0.63      1000\n",
            "           6       0.84      0.75      0.79      1000\n",
            "           7       0.69      0.85      0.76      1000\n",
            "           8       0.90      0.81      0.86      1000\n",
            "           9       0.79      0.86      0.82      1000\n",
            "\n",
            "    accuracy                           0.73     10000\n",
            "   macro avg       0.75      0.73      0.74     10000\n",
            "weighted avg       0.75      0.73      0.74     10000\n",
            "\n"
          ],
          "name": "stdout"
        }
      ]
    },
    {
      "cell_type": "markdown",
      "metadata": {
        "id": "c0XTUwzKrZdN",
        "colab_type": "text"
      },
      "source": [
        "### Desbalanceo 1\n"
      ]
    },
    {
      "cell_type": "code",
      "metadata": {
        "id": "g0CFl8X9GUb9",
        "colab_type": "code",
        "outputId": "c97807e3-c9d4-40c7-b810-e32cb548a9cc",
        "colab": {
          "base_uri": "https://localhost:8080/",
          "height": 282
        }
      },
      "source": [
        "cifar10Des1= keras.models.clone_model(modelcifar10)\n",
        "\n",
        "(x_train, y_train), (x_test, y_test) = cifar10.load_data()\n",
        "x_train = x_train.astype(np.float64)/255.0\n",
        "x_test = x_test.astype(np.float64)/255.0\n",
        "\n",
        "\n",
        "\n",
        "desX, desy = minDataCifar10(x_train, y_train, 4200, 200)\n",
        "\n",
        "(unique, counts) = np.unique(desy, return_counts=True)\n",
        "labels = list(map(str,unique.tolist()))\n",
        "freq = list(map(int, counts.tolist()))\n",
        "plt.barh(labels, freq)\n",
        "\n",
        "y_train = keras.utils.to_categorical(y_train)\n",
        "y_test = keras.utils.to_categorical(y_test)\n",
        "\n",
        "desy = keras.utils.to_categorical(desy)"
      ],
      "execution_count": 0,
      "outputs": [
        {
          "output_type": "stream",
          "text": [
            "26010\n"
          ],
          "name": "stdout"
        },
        {
          "output_type": "display_data",
          "data": {
            "image/png": "[encoded data removed]",
            "text/plain": [
              "<Figure size 432x288 with 1 Axes>"
            ]
          },
          "metadata": {
            "tags": [],
            "needs_background": "light"
          }
        }
      ]
    },
    {
      "cell_type": "code",
      "metadata": {
        "id": "ajJMplIjjqag",
        "colab_type": "code",
        "outputId": "3f0071ff-6da2-435c-9f3f-0b2553e4eee3",
        "colab": {
          "base_uri": "https://localhost:8080/",
          "height": 1000
        }
      },
      "source": [
        "cifar10Des1.compile(optimizer=\"adam\", loss=\"categorical_crossentropy\", metrics=[\"accuracy\"])\n",
        "cifar10Des1.fit(desX, desy, batch_size=34, validation_split=0.2, epochs=30)"
      ],
      "execution_count": 0,
      "outputs": [
        {
          "output_type": "stream",
          "text": [
            "Epoch 1/30\n",
            "612/612 [==============================] - 4s 7ms/step - loss: 1.3999 - accuracy: 0.5326 - val_loss: 0.8809 - val_accuracy: 0.6911\n",
            "Epoch 2/30\n",
            "612/612 [==============================] - 4s 7ms/step - loss: 0.9445 - accuracy: 0.6872 - val_loss: 0.8256 - val_accuracy: 0.7120\n",
            "Epoch 3/30\n",
            "612/612 [==============================] - 4s 7ms/step - loss: 0.7605 - accuracy: 0.7482 - val_loss: 0.7204 - val_accuracy: 0.7512\n",
            "Epoch 4/30\n",
            "612/612 [==============================] - 4s 7ms/step - loss: 0.6534 - accuracy: 0.7869 - val_loss: 0.6030 - val_accuracy: 0.7868\n",
            "Epoch 5/30\n",
            "612/612 [==============================] - 4s 7ms/step - loss: 0.5659 - accuracy: 0.8154 - val_loss: 0.7831 - val_accuracy: 0.7470\n",
            "Epoch 6/30\n",
            "612/612 [==============================] - 4s 7ms/step - loss: 0.4983 - accuracy: 0.8343 - val_loss: 0.7079 - val_accuracy: 0.7762\n",
            "Epoch 7/30\n",
            "612/612 [==============================] - 4s 7ms/step - loss: 0.4341 - accuracy: 0.8558 - val_loss: 0.5022 - val_accuracy: 0.8420\n",
            "Epoch 8/30\n",
            "612/612 [==============================] - 4s 7ms/step - loss: 0.3785 - accuracy: 0.8745 - val_loss: 0.5305 - val_accuracy: 0.8376\n",
            "Epoch 9/30\n",
            "612/612 [==============================] - 4s 7ms/step - loss: 0.3340 - accuracy: 0.8886 - val_loss: 0.5561 - val_accuracy: 0.8389\n",
            "Epoch 10/30\n",
            "612/612 [==============================] - 4s 7ms/step - loss: 0.3004 - accuracy: 0.9023 - val_loss: 0.5450 - val_accuracy: 0.8495\n",
            "Epoch 11/30\n",
            "612/612 [==============================] - 4s 7ms/step - loss: 0.2568 - accuracy: 0.9130 - val_loss: 0.7688 - val_accuracy: 0.8083\n",
            "Epoch 12/30\n",
            "612/612 [==============================] - 4s 7ms/step - loss: 0.2133 - accuracy: 0.9285 - val_loss: 0.4544 - val_accuracy: 0.8635\n",
            "Epoch 13/30\n",
            "612/612 [==============================] - 4s 7ms/step - loss: 0.1873 - accuracy: 0.9364 - val_loss: 0.7374 - val_accuracy: 0.8155\n",
            "Epoch 14/30\n",
            "612/612 [==============================] - 4s 7ms/step - loss: 0.1766 - accuracy: 0.9412 - val_loss: 0.7289 - val_accuracy: 0.8208\n",
            "Epoch 15/30\n",
            "612/612 [==============================] - 4s 7ms/step - loss: 0.1684 - accuracy: 0.9453 - val_loss: 0.6993 - val_accuracy: 0.8354\n",
            "Epoch 16/30\n",
            "612/612 [==============================] - 4s 6ms/step - loss: 0.1571 - accuracy: 0.9489 - val_loss: 0.7035 - val_accuracy: 0.8385\n",
            "Epoch 17/30\n",
            "612/612 [==============================] - 4s 7ms/step - loss: 0.1468 - accuracy: 0.9516 - val_loss: 0.6089 - val_accuracy: 0.8624\n",
            "Epoch 18/30\n",
            "612/612 [==============================] - 4s 7ms/step - loss: 0.1319 - accuracy: 0.9572 - val_loss: 0.5791 - val_accuracy: 0.8754\n",
            "Epoch 19/30\n",
            "612/612 [==============================] - 4s 7ms/step - loss: 0.1140 - accuracy: 0.9637 - val_loss: 0.5631 - val_accuracy: 0.8689\n",
            "Epoch 20/30\n",
            "612/612 [==============================] - 4s 7ms/step - loss: 0.1148 - accuracy: 0.9627 - val_loss: 0.6496 - val_accuracy: 0.8518\n",
            "Epoch 21/30\n",
            "612/612 [==============================] - 4s 7ms/step - loss: 0.1220 - accuracy: 0.9613 - val_loss: 0.7243 - val_accuracy: 0.8397\n",
            "Epoch 22/30\n",
            "612/612 [==============================] - 4s 7ms/step - loss: 0.1060 - accuracy: 0.9664 - val_loss: 0.7290 - val_accuracy: 0.8587\n",
            "Epoch 23/30\n",
            "612/612 [==============================] - 4s 7ms/step - loss: 0.0957 - accuracy: 0.9696 - val_loss: 0.6252 - val_accuracy: 0.8718\n",
            "Epoch 24/30\n",
            "612/612 [==============================] - 4s 7ms/step - loss: 0.0926 - accuracy: 0.9690 - val_loss: 0.6785 - val_accuracy: 0.8750\n",
            "Epoch 25/30\n",
            "612/612 [==============================] - 4s 7ms/step - loss: 0.0930 - accuracy: 0.9715 - val_loss: 0.6146 - val_accuracy: 0.8800\n",
            "Epoch 26/30\n",
            "612/612 [==============================] - 4s 7ms/step - loss: 0.0851 - accuracy: 0.9725 - val_loss: 0.6798 - val_accuracy: 0.8724\n",
            "Epoch 27/30\n",
            "612/612 [==============================] - 4s 7ms/step - loss: 0.0837 - accuracy: 0.9727 - val_loss: 0.6783 - val_accuracy: 0.8733\n",
            "Epoch 28/30\n",
            "612/612 [==============================] - 4s 7ms/step - loss: 0.0833 - accuracy: 0.9739 - val_loss: 0.7465 - val_accuracy: 0.8633\n",
            "Epoch 29/30\n",
            "612/612 [==============================] - 4s 7ms/step - loss: 0.0809 - accuracy: 0.9745 - val_loss: 0.6463 - val_accuracy: 0.8743\n",
            "Epoch 30/30\n",
            "612/612 [==============================] - 4s 7ms/step - loss: 0.0851 - accuracy: 0.9742 - val_loss: 0.6927 - val_accuracy: 0.8651\n"
          ],
          "name": "stdout"
        },
        {
          "output_type": "execute_result",
          "data": {
            "text/plain": [
              "<tensorflow.python.keras.callbacks.History at 0x7f4cb8582ba8>"
            ]
          },
          "metadata": {
            "tags": []
          },
          "execution_count": 13
        }
      ]
    },
    {
      "cell_type": "code",
      "metadata": {
        "id": "jvt2QFerrCA7",
        "colab_type": "code",
        "outputId": "fbc97a23-ae45-430e-a144-c7595aa40095",
        "colab": {
          "base_uri": "https://localhost:8080/",
          "height": 476
        }
      },
      "source": [
        "y_predict = cifar10Des1.predict(x_test)\n",
        "print(confusion_matrix(  np.argmax(y_test, axis=1), np.argmax(y_predict,axis=1) ))\n",
        "print(classification_report( np.argmax(y_test, axis=1) , np.argmax(y_predict,axis=1)))"
      ],
      "execution_count": 0,
      "outputs": [
        {
          "output_type": "stream",
          "text": [
            "[[851  14  53   4   1   1   3  20  23  30]\n",
            " [  9 922   5   2   0   0   1   4   5  52]\n",
            " [ 64  12 803   7   5  19  10  65   5  10]\n",
            " [ 79  27 316 166   7 161  17 172  18  37]\n",
            " [ 65  12 397  29 127  40   9 304   6  11]\n",
            " [ 33   3 239  86   6 378   4 226   6  19]\n",
            " [ 17  24 374  45   4  45 390  60  10  31]\n",
            " [ 14   3  41   6   0  18   0 908   2   8]\n",
            " [ 69  40  22   3   0   3   1  13 824  25]\n",
            " [ 19  89  12   3   0   3   2  25   8 839]]\n",
            "              precision    recall  f1-score   support\n",
            "\n",
            "           0       0.70      0.85      0.77      1000\n",
            "           1       0.80      0.92      0.86      1000\n",
            "           2       0.35      0.80      0.49      1000\n",
            "           3       0.47      0.17      0.25      1000\n",
            "           4       0.85      0.13      0.22      1000\n",
            "           5       0.57      0.38      0.45      1000\n",
            "           6       0.89      0.39      0.54      1000\n",
            "           7       0.51      0.91      0.65      1000\n",
            "           8       0.91      0.82      0.86      1000\n",
            "           9       0.79      0.84      0.81      1000\n",
            "\n",
            "    accuracy                           0.62     10000\n",
            "   macro avg       0.68      0.62      0.59     10000\n",
            "weighted avg       0.68      0.62      0.59     10000\n",
            "\n"
          ],
          "name": "stdout"
        }
      ]
    },
    {
      "cell_type": "markdown",
      "metadata": {
        "id": "P9PwIz10fDHq",
        "colab_type": "text"
      },
      "source": [
        "### Resultados"
      ]
    },
    {
      "cell_type": "code",
      "metadata": {
        "id": "6RS_QJ1ZfFox",
        "colab_type": "code",
        "colab": {}
      },
      "source": [
        "\n"
      ],
      "execution_count": 0,
      "outputs": []
    },
    {
      "cell_type": "markdown",
      "metadata": {
        "id": "HZ3rdUj8Lg9N",
        "colab_type": "text"
      },
      "source": [
        "## TwoMoon Dataset"
      ]
    },
    {
      "cell_type": "code",
      "metadata": {
        "id": "R_psXJfMLfXt",
        "colab_type": "code",
        "colab": {}
      },
      "source": [
        "def minDataMOONS(X, y, nGrande, nChico):\n",
        "  newX = []\n",
        "  newy = []\n",
        "  countg = [0,0]\n",
        "  for idx, elem in enumerate(y):\n",
        "    if( elem == 0 and countg[elem] <= nGrande):\n",
        "      newX.append(X[idx])\n",
        "      newy.append(y[idx])\n",
        "      countg[elem]+=1\n",
        "\n",
        "    if( elem == 1 and countg[elem] <= nChico):\n",
        "      newX.append(X[idx])\n",
        "      newy.append(y[idx])\n",
        "      countg[elem]+=1\n",
        "  print(sum(countg))\n",
        "  return(np.array(newX), np.array(newy))"
      ],
      "execution_count": 0,
      "outputs": []
    },
    {
      "cell_type": "code",
      "metadata": {
        "id": "8vrudJbdL0yl",
        "colab_type": "code",
        "colab": {}
      },
      "source": [
        "X,y = make_moons(n_samples = 4000, noise = 0.08)\n",
        "\n",
        "# Separar Data train y test\n",
        "X_train, X_test, y_train, y_test = train_test_split(X, y, test_size=0.5, random_state=42)"
      ],
      "execution_count": 0,
      "outputs": []
    },
    {
      "cell_type": "code",
      "metadata": {
        "id": "ZqZtzbgkL3dt",
        "colab_type": "code",
        "outputId": "466de01f-e1b1-4e00-9b1a-e7a6cc7c139c",
        "colab": {
          "base_uri": "https://localhost:8080/",
          "height": 255
        }
      },
      "source": [
        "# ARQUITECTURA\n",
        "model2MOONS = keras.models.Sequential()\n",
        "model2MOONS.add(keras.layers.Dense(4, input_dim=2, kernel_initializer='normal', activation='tanh'))\n",
        "model2MOONS.add(keras.layers.Dense(2, activation='tanh'))\n",
        "model2MOONS.add(keras.layers.Dense(1, activation='sigmoid'))\n",
        "\n",
        "model2MOONS.compile( optimizer=\"adam\", loss='binary_crossentropy', metrics=['accuracy'])\n",
        "model2MOONS.summary()"
      ],
      "execution_count": 0,
      "outputs": [
        {
          "output_type": "stream",
          "text": [
            "Model: \"sequential_13\"\n",
            "_________________________________________________________________\n",
            "Layer (type)                 Output Shape              Param #   \n",
            "=================================================================\n",
            "dense_36 (Dense)             (None, 4)                 12        \n",
            "_________________________________________________________________\n",
            "dense_37 (Dense)             (None, 2)                 10        \n",
            "_________________________________________________________________\n",
            "dense_38 (Dense)             (None, 1)                 3         \n",
            "=================================================================\n",
            "Total params: 25\n",
            "Trainable params: 25\n",
            "Non-trainable params: 0\n",
            "_________________________________________________________________\n"
          ],
          "name": "stdout"
        }
      ]
    },
    {
      "cell_type": "markdown",
      "metadata": {
        "id": "APfAYbXG6yix",
        "colab_type": "text"
      },
      "source": [
        "### Full Dataset"
      ]
    },
    {
      "cell_type": "code",
      "metadata": {
        "id": "H5hknsPmBAWB",
        "colab_type": "code",
        "outputId": "47d2ddcc-005e-4a62-85bc-9fa81d434ec9",
        "colab": {
          "base_uri": "https://localhost:8080/",
          "height": 282
        }
      },
      "source": [
        "fullX, fully = minDataMOONS(X_train, y_train, 500,500)\n",
        "moon1,moon2 = collections.Counter(fully).items()\n",
        "plt.ylabel(\"Numero de muestras\")\n",
        "plt.bar(['moon1','moon2'],[moon1[1],moon2[1]])\n",
        "plt.show()"
      ],
      "execution_count": 0,
      "outputs": [
        {
          "output_type": "stream",
          "text": [
            "1002\n"
          ],
          "name": "stdout"
        },
        {
          "output_type": "display_data",
          "data": {
            "image/png": "[encoded data removed]",
            "text/plain": [
              "<Figure size 432x288 with 1 Axes>"
            ]
          },
          "metadata": {
            "tags": [],
            "needs_background": "light"
          }
        }
      ]
    },
    {
      "cell_type": "code",
      "metadata": {
        "id": "NWS7bJuH50rY",
        "colab_type": "code",
        "outputId": "d746383e-5832-4688-832a-501b354360b4",
        "colab": {
          "base_uri": "https://localhost:8080/",
          "height": 357
        }
      },
      "source": [
        "model2MOONS_FULL= keras.models.clone_model(model2MOONS)\n",
        "model2MOONS_FULL.compile( optimizer=\"adam\", loss='binary_crossentropy', metrics=['accuracy'])\n",
        "history2MOONS = model2MOONS_FULL.fit(fullX, fully, epochs= 10, batch_size = 34, validation_split=0.2)"
      ],
      "execution_count": 0,
      "outputs": [
        {
          "output_type": "stream",
          "text": [
            "Epoch 1/10\n",
            "24/24 [==============================] - 0s 7ms/step - loss: 0.6983 - accuracy: 0.2634 - val_loss: 0.6936 - val_accuracy: 0.4428\n",
            "Epoch 2/10\n",
            "24/24 [==============================] - 0s 4ms/step - loss: 0.6886 - accuracy: 0.6667 - val_loss: 0.6844 - val_accuracy: 0.8408\n",
            "Epoch 3/10\n",
            "24/24 [==============================] - 0s 4ms/step - loss: 0.6787 - accuracy: 0.8252 - val_loss: 0.6739 - val_accuracy: 0.8706\n",
            "Epoch 4/10\n",
            "24/24 [==============================] - 0s 4ms/step - loss: 0.6660 - accuracy: 0.8315 - val_loss: 0.6587 - val_accuracy: 0.8507\n",
            "Epoch 5/10\n",
            "24/24 [==============================] - 0s 3ms/step - loss: 0.6490 - accuracy: 0.8340 - val_loss: 0.6386 - val_accuracy: 0.8458\n",
            "Epoch 6/10\n",
            "24/24 [==============================] - 0s 4ms/step - loss: 0.6277 - accuracy: 0.8190 - val_loss: 0.6137 - val_accuracy: 0.8458\n",
            "Epoch 7/10\n",
            "24/24 [==============================] - 0s 4ms/step - loss: 0.6029 - accuracy: 0.8202 - val_loss: 0.5863 - val_accuracy: 0.8458\n",
            "Epoch 8/10\n",
            "24/24 [==============================] - 0s 4ms/step - loss: 0.5759 - accuracy: 0.8190 - val_loss: 0.5583 - val_accuracy: 0.8259\n",
            "Epoch 9/10\n",
            "24/24 [==============================] - 0s 4ms/step - loss: 0.5491 - accuracy: 0.8177 - val_loss: 0.5311 - val_accuracy: 0.8259\n",
            "Epoch 10/10\n",
            "24/24 [==============================] - 0s 4ms/step - loss: 0.5240 - accuracy: 0.8152 - val_loss: 0.5052 - val_accuracy: 0.8209\n"
          ],
          "name": "stdout"
        }
      ]
    },
    {
      "cell_type": "code",
      "metadata": {
        "id": "yKkwZ9HL6_Hy",
        "colab_type": "code",
        "outputId": "15c6ba1d-6e9b-45ea-dc69-bab898d9ccfa",
        "colab": {
          "base_uri": "https://localhost:8080/",
          "height": 204
        }
      },
      "source": [
        "#desbalanceado sobre testing\n",
        "y_predict = (model2MOONS_FULL.predict(X_test)>0.5).astype(int)\n",
        "\n",
        "print(confusion_matrix(y_test, y_predict))\n",
        "print(classification_report(y_test, y_predict))"
      ],
      "execution_count": 0,
      "outputs": [
        {
          "output_type": "stream",
          "text": [
            "[[795 207]\n",
            " [145 853]]\n",
            "              precision    recall  f1-score   support\n",
            "\n",
            "           0       0.85      0.79      0.82      1002\n",
            "           1       0.80      0.85      0.83       998\n",
            "\n",
            "    accuracy                           0.82      2000\n",
            "   macro avg       0.83      0.82      0.82      2000\n",
            "weighted avg       0.83      0.82      0.82      2000\n",
            "\n"
          ],
          "name": "stdout"
        }
      ]
    },
    {
      "cell_type": "markdown",
      "metadata": {
        "id": "D6phiGti-TQm",
        "colab_type": "text"
      },
      "source": [
        "### Desbalanceo 1"
      ]
    },
    {
      "cell_type": "code",
      "metadata": {
        "id": "c_sW_IOn-VRa",
        "colab_type": "code",
        "outputId": "11d18928-35f1-4e6b-cada-4751c5e8625e",
        "colab": {
          "base_uri": "https://localhost:8080/",
          "height": 299
        }
      },
      "source": [
        "NAMES = [\"moon1\",\"moon2\"]\n",
        "desbX, desby = minDataMOONS(X_train, y_train, 900,100)\n",
        "moon2,moon1 = collections.Counter(desby).items()\n",
        "plt.ylabel(\"Numero de muestras\")\n",
        "plt.bar(NAMES ,[moon1[1],moon2[1]])\n",
        "plt.show()\n",
        "print(moon2)"
      ],
      "execution_count": 0,
      "outputs": [
        {
          "output_type": "stream",
          "text": [
            "1002\n"
          ],
          "name": "stdout"
        },
        {
          "output_type": "display_data",
          "data": {
            "image/png": "[encoded data removed]",
            "text/plain": [
              "<Figure size 432x288 with 1 Axes>"
            ]
          },
          "metadata": {
            "tags": [],
            "needs_background": "light"
          }
        },
        {
          "output_type": "stream",
          "text": [
            "(1, 101)\n"
          ],
          "name": "stdout"
        }
      ]
    },
    {
      "cell_type": "code",
      "metadata": {
        "id": "YRAm1xfBAUT4",
        "colab_type": "code",
        "outputId": "80d0fb57-19e5-4699-faa0-70b70a0413cf",
        "colab": {
          "base_uri": "https://localhost:8080/",
          "height": 357
        }
      },
      "source": [
        "model2MOONS_SPLIT2= keras.models.clone_model(model2MOONS)\n",
        "model2MOONS_SPLIT2.compile( optimizer=\"adam\", loss='binary_crossentropy', metrics=['accuracy'])\n",
        "history2MOONS_SPLIT = model2MOONS_SPLIT2.fit(desbX, desby, epochs= 10, batch_size = 34, validation_split=0.2)"
      ],
      "execution_count": 0,
      "outputs": [
        {
          "output_type": "stream",
          "text": [
            "Epoch 1/10\n",
            "24/24 [==============================] - 0s 7ms/step - loss: 0.6842 - accuracy: 0.5968 - val_loss: 0.6272 - val_accuracy: 1.0000\n",
            "Epoch 2/10\n",
            "24/24 [==============================] - 0s 4ms/step - loss: 0.6049 - accuracy: 0.8851 - val_loss: 0.5361 - val_accuracy: 1.0000\n",
            "Epoch 3/10\n",
            "24/24 [==============================] - 0s 4ms/step - loss: 0.5336 - accuracy: 0.8739 - val_loss: 0.4501 - val_accuracy: 1.0000\n",
            "Epoch 4/10\n",
            "24/24 [==============================] - 0s 4ms/step - loss: 0.4699 - accuracy: 0.8739 - val_loss: 0.3748 - val_accuracy: 1.0000\n",
            "Epoch 5/10\n",
            "24/24 [==============================] - 0s 4ms/step - loss: 0.4170 - accuracy: 0.8739 - val_loss: 0.3125 - val_accuracy: 1.0000\n",
            "Epoch 6/10\n",
            "24/24 [==============================] - 0s 4ms/step - loss: 0.3748 - accuracy: 0.8752 - val_loss: 0.2645 - val_accuracy: 1.0000\n",
            "Epoch 7/10\n",
            "24/24 [==============================] - 0s 4ms/step - loss: 0.3421 - accuracy: 0.8777 - val_loss: 0.2284 - val_accuracy: 1.0000\n",
            "Epoch 8/10\n",
            "24/24 [==============================] - 0s 4ms/step - loss: 0.3173 - accuracy: 0.8864 - val_loss: 0.2007 - val_accuracy: 1.0000\n",
            "Epoch 9/10\n",
            "24/24 [==============================] - 0s 4ms/step - loss: 0.2977 - accuracy: 0.9014 - val_loss: 0.1791 - val_accuracy: 1.0000\n",
            "Epoch 10/10\n",
            "24/24 [==============================] - 0s 4ms/step - loss: 0.2818 - accuracy: 0.9151 - val_loss: 0.1631 - val_accuracy: 1.0000\n"
          ],
          "name": "stdout"
        }
      ]
    },
    {
      "cell_type": "code",
      "metadata": {
        "id": "2PKIHZMoCZmT",
        "colab_type": "code",
        "outputId": "70606e85-4304-47be-ab7d-e4082e73e0c1",
        "colab": {
          "base_uri": "https://localhost:8080/",
          "height": 204
        }
      },
      "source": [
        "#desbalanceado sobre testing\n",
        "y_predict = (model2MOONS_SPLIT2.predict(X_test)>0.5).astype(int)\n",
        "\n",
        "print(confusion_matrix(y_test, y_predict))\n",
        "print(classification_report(y_test, y_predict, target_names=NAMES))"
      ],
      "execution_count": 0,
      "outputs": [
        {
          "output_type": "stream",
          "text": [
            "[[1002    0]\n",
            " [ 622  376]]\n",
            "              precision    recall  f1-score   support\n",
            "\n",
            "       moon1       0.62      1.00      0.76      1002\n",
            "       moon2       1.00      0.38      0.55       998\n",
            "\n",
            "    accuracy                           0.69      2000\n",
            "   macro avg       0.81      0.69      0.66      2000\n",
            "weighted avg       0.81      0.69      0.66      2000\n",
            "\n"
          ],
          "name": "stdout"
        }
      ]
    },
    {
      "cell_type": "markdown",
      "metadata": {
        "id": "8L1iX5cGk1w6",
        "colab_type": "text"
      },
      "source": [
        "### Desbalanceo 2"
      ]
    },
    {
      "cell_type": "code",
      "metadata": {
        "id": "fJ8huwlxk4sC",
        "colab_type": "code",
        "outputId": "c2a1ff1f-1c6c-4622-95e4-07ffbb962363",
        "colab": {
          "base_uri": "https://localhost:8080/",
          "height": 299
        }
      },
      "source": [
        "NAMES = [\"moon1\",\"moon2\"]\n",
        "desbX2, desby2 = minDataMOONS(X_train, y_train, 700,300)\n",
        "moon2,moon1 = collections.Counter(desby2).items()\n",
        "plt.ylabel(\"Numero de muestras\")\n",
        "plt.bar(NAMES ,[moon1[1],moon2[1]])\n",
        "plt.show()\n",
        "print(moon2)"
      ],
      "execution_count": 0,
      "outputs": [
        {
          "output_type": "stream",
          "text": [
            "1002\n"
          ],
          "name": "stdout"
        },
        {
          "output_type": "display_data",
          "data": {
            "image/png": "[encoded data removed]",
            "text/plain": [
              "<Figure size 432x288 with 1 Axes>"
            ]
          },
          "metadata": {
            "tags": [],
            "needs_background": "light"
          }
        },
        {
          "output_type": "stream",
          "text": [
            "(1, 301)\n"
          ],
          "name": "stdout"
        }
      ]
    },
    {
      "cell_type": "code",
      "metadata": {
        "id": "4IuwnnlclEBh",
        "colab_type": "code",
        "outputId": "b408000e-35e8-48df-a23e-2b402b47cd71",
        "colab": {
          "base_uri": "https://localhost:8080/",
          "height": 357
        }
      },
      "source": [
        "model2MOONS_SPLIT= keras.models.clone_model(model2MOONS)\n",
        "model2MOONS_SPLIT.compile( optimizer=\"adam\", loss='binary_crossentropy', metrics=['accuracy'])\n",
        "history2MOONS_SPLIT = model2MOONS_SPLIT.fit(desbX2, desby2, epochs= 10, batch_size = 34, validation_split=0.2)"
      ],
      "execution_count": 0,
      "outputs": [
        {
          "output_type": "stream",
          "text": [
            "Epoch 1/10\n",
            "24/24 [==============================] - 0s 7ms/step - loss: 0.6743 - accuracy: 0.8215 - val_loss: 0.6470 - val_accuracy: 0.9801\n",
            "Epoch 2/10\n",
            "24/24 [==============================] - 0s 4ms/step - loss: 0.6531 - accuracy: 0.8514 - val_loss: 0.6077 - val_accuracy: 1.0000\n",
            "Epoch 3/10\n",
            "24/24 [==============================] - 0s 4ms/step - loss: 0.6311 - accuracy: 0.8414 - val_loss: 0.5657 - val_accuracy: 1.0000\n",
            "Epoch 4/10\n",
            "24/24 [==============================] - 0s 4ms/step - loss: 0.6065 - accuracy: 0.8452 - val_loss: 0.5293 - val_accuracy: 1.0000\n",
            "Epoch 5/10\n",
            "24/24 [==============================] - 0s 4ms/step - loss: 0.5817 - accuracy: 0.8577 - val_loss: 0.4925 - val_accuracy: 0.9950\n",
            "Epoch 6/10\n",
            "24/24 [==============================] - 0s 4ms/step - loss: 0.5567 - accuracy: 0.8614 - val_loss: 0.4631 - val_accuracy: 0.9801\n",
            "Epoch 7/10\n",
            "24/24 [==============================] - 0s 4ms/step - loss: 0.5327 - accuracy: 0.8627 - val_loss: 0.4388 - val_accuracy: 0.9552\n",
            "Epoch 8/10\n",
            "24/24 [==============================] - 0s 4ms/step - loss: 0.5102 - accuracy: 0.8627 - val_loss: 0.4133 - val_accuracy: 0.9502\n",
            "Epoch 9/10\n",
            "24/24 [==============================] - 0s 4ms/step - loss: 0.4896 - accuracy: 0.8527 - val_loss: 0.3956 - val_accuracy: 0.9303\n",
            "Epoch 10/10\n",
            "24/24 [==============================] - 0s 4ms/step - loss: 0.4711 - accuracy: 0.8539 - val_loss: 0.3774 - val_accuracy: 0.9303\n"
          ],
          "name": "stdout"
        }
      ]
    },
    {
      "cell_type": "code",
      "metadata": {
        "id": "GPSLajMrlLTk",
        "colab_type": "code",
        "outputId": "c46c9a2e-f618-47aa-b69e-263df9eba8de",
        "colab": {
          "base_uri": "https://localhost:8080/",
          "height": 204
        }
      },
      "source": [
        "#desbalanceado sobre testing\n",
        "y_predict = (model2MOONS_SPLIT.predict(X_test)>0.5).astype(int)\n",
        "\n",
        "print(confusion_matrix(y_test, y_predict))\n",
        "print(classification_report(y_test, y_predict, target_names=NAMES))"
      ],
      "execution_count": 0,
      "outputs": [
        {
          "output_type": "stream",
          "text": [
            "[[928  74]\n",
            " [285 713]]\n",
            "              precision    recall  f1-score   support\n",
            "\n",
            "       moon1       0.77      0.93      0.84      1002\n",
            "       moon2       0.91      0.71      0.80       998\n",
            "\n",
            "    accuracy                           0.82      2000\n",
            "   macro avg       0.84      0.82      0.82      2000\n",
            "weighted avg       0.84      0.82      0.82      2000\n",
            "\n"
          ],
          "name": "stdout"
        }
      ]
    },
    {
      "cell_type": "markdown",
      "metadata": {
        "id": "zkaBudzLEc0S",
        "colab_type": "text"
      },
      "source": [
        "# Ejercicio 2 "
      ]
    },
    {
      "cell_type": "markdown",
      "metadata": {
        "id": "acAuYCnTmvfD",
        "colab_type": "text"
      },
      "source": [
        "### LOAD DATA"
      ]
    },
    {
      "cell_type": "code",
      "metadata": {
        "id": "ERqHFH2vmu5V",
        "colab_type": "code",
        "colab": {}
      },
      "source": [
        "PATH_TRAINING = os.path.join(PATH, \"P2\", \"TRAINING\")\n",
        "X = pickle.load(open(\"/content/gdrive/My Drive/ANN1/P2/Training/XNoise125_1000.pickle\",\"rb\"))\n",
        "y = pickle.load(open(\"/content/gdrive/My Drive/ANN1/P2/Training/yNoise125_1000.pickle\",\"rb\"))\n",
        "y = keras.utils.to_categorical(y, num_classes=10)\n",
        "X  = np.array(X).astype(np.float32)/255.0\n",
        "X.shape"
      ],
      "execution_count": 0,
      "outputs": []
    },
    {
      "cell_type": "code",
      "metadata": {
        "id": "sPi8nsy3DbI1",
        "colab_type": "code",
        "colab": {}
      },
      "source": [
        "plt.axis(\"off\")\n",
        "elem = -5\n",
        "plt.title(y[elem])\n",
        "plt.imshow(cv2.cvtColor(X[elem], cv2.COLOR_BGR2RGB))"
      ],
      "execution_count": 0,
      "outputs": []
    },
    {
      "cell_type": "code",
      "metadata": {
        "id": "hWPRYJcAuado",
        "colab_type": "code",
        "colab": {}
      },
      "source": [
        "VGG = keras.applications.vgg16.VGG16(weights='imagenet', include_top=False, input_shape =(128,128,3))\n",
        "flatten = keras.layers.Flatten()\n",
        "\n",
        "\n",
        "outputLayer = keras.layers.Dense(10, activation='softmax')\n",
        "\n",
        "VGG.trainable = False\n",
        "inp2 = VGG.input\n",
        "\n",
        "\n",
        "out2 = outputLayer(flatten(VGG.output))\n",
        "\n",
        "model2 = keras.models.Model(inp2, out2)\n",
        "model2.compile(optimizer=\"adam\", loss=\"categorical_crossentropy\", metrics=[\"accuracy\"])\n",
        "\n"
      ],
      "execution_count": 0,
      "outputs": []
    },
    {
      "cell_type": "code",
      "metadata": {
        "id": "9ZyS2dUM1CYx",
        "colab_type": "code",
        "colab": {}
      },
      "source": [
        "history = model2.fit(X,y,batch_size=34, validation_split=0.2, epochs=10)"
      ],
      "execution_count": 0,
      "outputs": []
    },
    {
      "cell_type": "code",
      "metadata": {
        "id": "q4HWHKRq3fTq",
        "colab_type": "code",
        "colab": {}
      },
      "source": [
        "plt.plot(history.history[\"accuracy\"], label=\"accuracy\")\n",
        "plt.plot(history.history[\"val_accuracy\"], label=\"val_accuracy\")\n",
        "plt.legend()"
      ],
      "execution_count": 0,
      "outputs": []
    },
    {
      "cell_type": "code",
      "metadata": {
        "id": "W0qH4Erh4zzb",
        "colab_type": "code",
        "colab": {}
      },
      "source": [
        "X_t = pickle.load(open(\"/content/gdrive/My Drive/ANN1/P2/Testing/X_test.pickle\",\"rb\"))"
      ],
      "execution_count": 0,
      "outputs": []
    },
    {
      "cell_type": "code",
      "metadata": {
        "id": "jjVTYC38sIEM",
        "colab_type": "code",
        "colab": {}
      },
      "source": [
        "y_predict = np.argmax(model2.predict(X_t.astype(np.float64)/255.0),axis=1)"
      ],
      "execution_count": 0,
      "outputs": []
    },
    {
      "cell_type": "code",
      "metadata": {
        "id": "59OrV33lsLXy",
        "colab_type": "code",
        "colab": {}
      },
      "source": [
        "labels = [\"column\", \"gargoyle\",\"dome_outer\",\"vault\",\"bell_tower\",\"stained_glass\",\"altar\",\"dome_inner\",\"apse\",\"flying_buttress\"]\n",
        "elem = 110\n",
        "plt.title(labels[y_predict[elem]])\n",
        "plt.imshow(X_t[elem])"
      ],
      "execution_count": 0,
      "outputs": []
    },
    {
      "cell_type": "code",
      "metadata": {
        "id": "7x-I-D-Ts1oY",
        "colab_type": "code",
        "colab": {}
      },
      "source": [
        "ans = []\n",
        "for idx,pred in enumerate(y_predict):\n",
        "  ans.append([f\"test_{idx}\", labels[pred]])\n",
        "df = pd.DataFrame(ans)\n"
      ],
      "execution_count": 0,
      "outputs": []
    },
    {
      "cell_type": "code",
      "metadata": {
        "id": "cMHLNPqPuhJO",
        "colab_type": "code",
        "colab": {}
      },
      "source": [
        "df.columns = [\"Id\",\"Expected\"]\n",
        "df.to_csv(\"submision.csv\",index=False)"
      ],
      "execution_count": 0,
      "outputs": []
    },
    {
      "cell_type": "code",
      "metadata": {
        "id": "CCi-xXgcvKI4",
        "colab_type": "code",
        "colab": {}
      },
      "source": [
        "df"
      ],
      "execution_count": 0,
      "outputs": []
    },
    {
      "cell_type": "code",
      "metadata": {
        "id": "kD00iqxnvp2E",
        "colab_type": "code",
        "colab": {}
      },
      "source": [
        ""
      ],
      "execution_count": 0,
      "outputs": []
    }
  ]
}